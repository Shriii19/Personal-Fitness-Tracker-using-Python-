{
  "nbformat": 4,
  "nbformat_minor": 0,
  "metadata": {
    "colab": {
      "private_outputs": true,
      "provenance": []
    },
    "kernelspec": {
      "name": "python3",
      "display_name": "Python 3"
    },
    "language_info": {
      "name": "python"
    }
  },
  "cells": [
    {
      "cell_type": "code",
      "execution_count": null,
      "metadata": {
        "id": "DnSRSqVBJQ46"
      },
      "outputs": [],
      "source": [
        "#Importing libraries\n",
        "import numpy as np\n",
        "import matplotlib.pyplot as plt\n",
        "import pandas as pd\n",
        "from sklearn.model_selection import train_test_split, GridSearchCV\n",
        "from sklearn.metrics import mean_squared_error\n",
        "from sklearn.preprocessing import StandardScaler\n",
        "from sklearn.linear_model import LinearRegression\n",
        "from sklearn.ensemble import RandomForestRegressor\n",
        "from sklearn import metrics\n",
        "\n",
        "from IPython.display import HTML\n",
        "import plotly.express as px\n",
        "\n",
        "import warnings\n",
        "warnings.filterwarnings('ignore')"
      ]
    },
    {
      "cell_type": "code",
      "source": [
        "import seaborn as sns"
      ],
      "metadata": {
        "id": "XPgYfJTzJm5W"
      },
      "execution_count": null,
      "outputs": []
    },
    {
      "cell_type": "code",
      "source": [
        "calories = pd.read_csv(\"calories.csv\")\n",
        "exercise = pd.read_csv(\"exercise.csv\")"
      ],
      "metadata": {
        "id": "m3PBzJ4RLJeg"
      },
      "execution_count": null,
      "outputs": []
    },
    {
      "cell_type": "code",
      "source": [
        "calories.head()"
      ],
      "metadata": {
        "id": "EkA-UiOwLLYY"
      },
      "execution_count": null,
      "outputs": []
    },
    {
      "cell_type": "code",
      "source": [
        "exercise.head()"
      ],
      "metadata": {
        "id": "pzUDPT-2LUUJ"
      },
      "execution_count": null,
      "outputs": []
    },
    {
      "cell_type": "code",
      "source": [
        "exercise_df=exercise.merge(calories, on= \"User_ID\")\n",
        "exercise_df.head()\n"
      ],
      "metadata": {
        "id": "74YtKvYJLhJz"
      },
      "execution_count": null,
      "outputs": []
    },
    {
      "cell_type": "code",
      "source": [
        "print(\"This dataset has \" , exercise_df.shape[0], \"rows and\", exercise_df.shape[1], \"columns.\")"
      ],
      "metadata": {
        "id": "BKmAGAONLsFD"
      },
      "execution_count": null,
      "outputs": []
    },
    {
      "cell_type": "code",
      "source": [
        "exercise_df.columns"
      ],
      "metadata": {
        "id": "DXFi1riaMVvh"
      },
      "execution_count": null,
      "outputs": []
    },
    {
      "cell_type": "code",
      "source": [
        "print(\"columns : \")\n",
        "for i , column in zip(range(len(exercise_df.columns)), exercise_df.columns):\n",
        "    print(i+1, column)"
      ],
      "metadata": {
        "id": "ykAEhYgIMcIR"
      },
      "execution_count": null,
      "outputs": []
    },
    {
      "cell_type": "code",
      "source": [
        "exercise_df.describe()"
      ],
      "metadata": {
        "id": "w81o7cUiMycd"
      },
      "execution_count": null,
      "outputs": []
    },
    {
      "cell_type": "code",
      "source": [
        "c = ['b' , 'g' , 'r' , 'c' , 'm' , 'y' , 'k' , ' w' , 'b' ]\n",
        "fig1 , axes = plt.subplots(len(exercise_df.columns) , 1, figsize=(10, 20))\n",
        "plt.subplots_adjust(wspace=0.3, hspace=0.7)\n",
        "axes = axes.flatten()\n",
        "for i , column in zip(range(len(exercise_df.columns)) , exercise_df.columns):\n",
        "    try :\n",
        "      sns.boxplot(data = exercise_df , x = column , color = c [i] , ax = axes[i])\n",
        "    except:\n",
        "      fig1.delaxes(axes[i])\n",
        "      continue"
      ],
      "metadata": {
        "id": "gnhBAE2_M-R-"
      },
      "execution_count": null,
      "outputs": []
    },
    {
      "cell_type": "code",
      "source": [
        "exercise_df.info()"
      ],
      "metadata": {
        "id": "Rlec2TCpOIHv"
      },
      "execution_count": null,
      "outputs": []
    },
    {
      "cell_type": "code",
      "source": [
        "sns.heatmap(exercise_df.isnull() , yticklabels = False , cbar = False , cmap = \"viridis\")"
      ],
      "metadata": {
        "id": "90ZHqO_5XFON"
      },
      "execution_count": null,
      "outputs": []
    },
    {
      "cell_type": "code",
      "source": [
        "print (\"the shape od dataset before dropping duplicates :\" , exercise_df.shape)\n",
        "exercise_df.drop_duplicates(inplace = True)\n",
        "print (\"the shape od dataset after dropping duplicates :\" , exercise_df.shape)"
      ],
      "metadata": {
        "id": "jj0PBfnSXgZQ"
      },
      "execution_count": null,
      "outputs": []
    },
    {
      "cell_type": "code",
      "source": [
        "exercise_df.drop(columns = \"User_ID\" , inplace = True)"
      ],
      "metadata": {
        "id": "jwWstSzYYmSJ"
      },
      "execution_count": null,
      "outputs": []
    },
    {
      "cell_type": "code",
      "source": [
        "exercise_train_data , exercise_test_data = train_test_split(exercise_df , test_size = 0.2 , random_state =1)\n",
        "print(\"shape of training data : \" , exercise_train_data.shape)\n",
        "print(\"shape of testing data : \" , exercise_test_data.shape)"
      ],
      "metadata": {
        "id": "WTaZfnlTZ8_s"
      },
      "execution_count": null,
      "outputs": []
    },
    {
      "cell_type": "code",
      "source": [
        "c = ['b' , 'g' , 'r' , 'c' , 'm' , 'y' , 'k' , ' w' , 'b' ]\n",
        "fig1 , axes = plt.subplots(len(exercise_df.columns) , 2, figsize=(10, 20))\n",
        "plt.subplots_adjust(wspace=0.3, hspace=0.7)\n",
        "axes = axes.flatten()\n",
        "for i , column , color in zip(range(0 , len(exercise_train_data.columns) * 2 , 2) , exercise_train_data.columns , c):\n",
        "  try:\n",
        "    axes[i].title.set_text(column + \"train distribution\")\n",
        "    sns.kdeplot(data = exercise_train_data , x = column , ax= axes[i] , color = color)\n",
        "  except:\n",
        "    fig1.delaxes(axes[i])\n",
        "    continue\n",
        "\n",
        "for i , column , color in zip(range(1 , len(exercise_train_data.columns) * 2 , 2) , exercise_train_data.columns , c):\n",
        "  try:\n",
        "    axes[i].title.set_text(column + \"train distribution\")\n",
        "    sns.kdeplot(data = exercise_train_data , x = column , ax= axes[i] , color = color)\n",
        "  except:\n",
        "    fig1.delaxes(axes[i])\n",
        "    continue"
      ],
      "metadata": {
        "id": "Xf49wgerapTJ"
      },
      "execution_count": null,
      "outputs": []
    },
    {
      "cell_type": "code",
      "source": [
        "sns.pairplot(exercise_train_data[[\"Weight\" , \"Height\" , \"Duration\" , \"Heart_Rate\" , \"Calories\" , \"Gender\"]] , hue =\"Gender\")"
      ],
      "metadata": {
        "id": "HDKxNCMYfNSN"
      },
      "execution_count": null,
      "outputs": []
    },
    {
      "cell_type": "code",
      "source": [
        "print( 'minimum age in dataset is : ' , exercise_df['Age'].min() )\n",
        "print( 'maximum age in dataset is : ' , exercise_df['Age'].max() )\n"
      ],
      "metadata": {
        "id": "iuJ0nmBEj9GT"
      },
      "execution_count": null,
      "outputs": []
    },
    {
      "cell_type": "code",
      "source": [
        "age_groups = [\"Young\" ,\"Middle-Aged\", \"Old\"]\n",
        "exercise_train_data[\"age_groups\"] = pd.cut(exercise_train_data[\"Age\"] , bins = [20 , 40 , 60 , 80] , right = False , labels = age_groups)\n",
        "exercise_train_data[\"age_groups\"].head()"
      ],
      "metadata": {
        "id": "QdebpUxzyoGx"
      },
      "execution_count": null,
      "outputs": []
    },
    {
      "cell_type": "code",
      "source": [
        "exercise_train_data[ \"age_groups\"].value_counts()"
      ],
      "metadata": {
        "id": "Nnh-MEOuzyRB"
      },
      "execution_count": null,
      "outputs": []
    },
    {
      "cell_type": "code",
      "source": [
        "plt.rcParams[\"figure.figsize\"] = 8 , 6\n",
        "sns.countplot(data = exercise_train_data , x = \"age_groups\")"
      ],
      "metadata": {
        "id": "cHVa_YB40LKc"
      },
      "execution_count": null,
      "outputs": []
    },
    {
      "cell_type": "code",
      "source": [
        "fig = px.box(exercise_train_data, x = \"age_groups\" , y = \"Calories\" , color = \"Gender\")\n",
        "fig.update_layout(\n",
        "width=700,\n",
        "height=450,\n",
        ")\n",
        "fig.show()\n"
      ],
      "metadata": {
        "id": "HTJWAgiO00fg"
      },
      "execution_count": null,
      "outputs": []
    },
    {
      "cell_type": "code",
      "source": [
        "print(\"dataset 's median exercise duration in mins: \" , exercise_train_data[\"Duration\"].median())\n",
        "print(\"dataset 's mean exercise duration in tnins: \", exercise_train_data[\"Duration\"].mean())\n"
      ],
      "metadata": {
        "id": "gALCP1Uo2nuP"
      },
      "execution_count": null,
      "outputs": []
    },
    {
      "cell_type": "code",
      "source": [
        "plt.rcParams[\"figure.figsize\"] = 8 , 6\n",
        "sns.countplot(data = exercise_train_data , x = \"Gender\")"
      ],
      "metadata": {
        "id": "KKJ4t95M25XQ"
      },
      "execution_count": null,
      "outputs": []
    },
    {
      "cell_type": "code",
      "source": [
        "for data in[exercise_train_data , exercise_test_data]:\n",
        "  data[\"BMI\"] = data[\"Weight\"] / ((data[\"Height\"]/100)**2)\n",
        "  data[\"BMI\"] = round(data[\"BMI\"],2)"
      ],
      "metadata": {
        "id": "GjCQsaxV3Erq"
      },
      "execution_count": null,
      "outputs": []
    },
    {
      "cell_type": "code",
      "source": [
        "bmi_category = [\"Very severely underweight\" , \"Severely underweight\" , \"Underweight\" , \"Normal\" , \"Overweight\" , \"Obese Class I\" , \"Obese Class II\" , \"Obese Class III\"]\n",
        "exercise_train_data[\"categorized_BMI\"] = pd.cut(exercise_train_data[\"BMI\"] , bins = [0 , 15, 16 , 18.5 , 25 , 30 , 35 , 40 , 50 ] , right=False , labels = bmi_category)\n",
        "exercise_train_data[\"categorized_BMI\"] = exercise_train_data[\"categorized_BMI\"].astype(\"object\")\n",
        "exercise_train_data.head()\n"
      ],
      "metadata": {
        "id": "lWddESQC4Or0"
      },
      "execution_count": null,
      "outputs": []
    },
    {
      "cell_type": "code",
      "source": [
        "ds = exercise_train_data[\"categorized_BMI\"].value_counts().reset_index()\n",
        "ds.columns = [\"categorized_BMI\" , \"count\"]\n",
        "ds"
      ],
      "metadata": {
        "id": "Vw1Otr0Y5soY"
      },
      "execution_count": null,
      "outputs": []
    },
    {
      "cell_type": "code",
      "source": [
        "fig = px.scatter(exercise_train_data, x = \"Duration\" , y = \"Body_Temp\" , size = \"Calories\")\n",
        "\n",
        "fig. update_layout (\n",
        "width=700,\n",
        "height=450,\n",
        ")\n",
        "fig. show()\n"
      ],
      "metadata": {
        "id": "xIvo5by269QY"
      },
      "execution_count": null,
      "outputs": []
    },
    {
      "cell_type": "code",
      "source": [
        "\n",
        "plt.rcParams[\"figure.figsize\"] = (8, 6)\n",
        "corr = numeric_data.corr()\n",
        "sns.heatmap(corr, annot=True, square=True, linewidths=0.5, vmin=0, vmax=1, cmap='Blues')"
      ],
      "metadata": {
        "id": "F1yArdWl-a2v"
      },
      "execution_count": null,
      "outputs": []
    },
    {
      "cell_type": "code",
      "source": [
        "required_columns = [\"Gender\", \"Age\", \"BMI\", \"Heart_rate\", \"Body_Temp\", \"Duration\", \"Calories\"]\n",
        "exercise_train_data = exercise_train_data[available_columns]\n",
        "exercise_test_data = exercise_test_data[available_columns]\n",
        "exercise_train_data = pd.get_dummies(exercise_train_data, drop_first=True)\n",
        "exercise_test_data = pd.get_dummies(exercise_test_data, drop_first=True)\n",
        "\n"
      ],
      "metadata": {
        "id": "j6A9Pc-0_KkD"
      },
      "execution_count": null,
      "outputs": []
    },
    {
      "cell_type": "code",
      "source": [
        "X_train = exercise_train_data.drop(\"Calories\", axis=1)\n",
        "y_train = exercise_train_data[\"Calories\"]\n",
        "X_test = exercise_test_data.drop(\"Calories\", axis=1)\n",
        "y_test = exercise_test_data[\"Calories\"]"
      ],
      "metadata": {
        "id": "eh71zR0LIAgg"
      },
      "execution_count": null,
      "outputs": []
    },
    {
      "cell_type": "code",
      "source": [
        "# print(X_train.shape)\n",
        "# print(y_train.shape)\n",
        "# print(X_test.shape)\n",
        "# print(y_test.shape)"
      ],
      "metadata": {
        "id": "Y5OlXaxBJkas"
      },
      "execution_count": null,
      "outputs": []
    },
    {
      "cell_type": "code",
      "source": [
        "train_error , val_error = [] , []\n",
        "def plot_learning_curve(model):\n",
        "  for m in range(1 , 1000):\n",
        "    model.fit(X_train[:m] , y_train[:m])\n",
        "    y_train_predict = model.predict(X_train[:m])\n",
        "    y_val_predict = model.predict(X_test[:m])\n",
        "    train_error.append(mean_squared_error(y_train[:m] , y_train_predict))\n",
        "    val_error.append(mean_squared_error(y_test [:m] , y_val_predict))\n",
        "\n",
        "plt.plot(np.sqrt(train_error) , \"r-+\" , linewidth = 2 , label = \"Train\")\n",
        "plt.plot(np.sqrt(val_error) , \"b-\" , linewidth = 3 , label = \"Val\")\n",
        "plt.title(\"learning curve\")\n",
        "plt.xlabel(\"training set size\")\n",
        "plt.ylabel(\"Mean Squared Error\")\n",
        "plt.xlim([0 , 1000])\n",
        "plt.ylim([0 , 25])\n",
        "plt.legend()\n",
        "\n",
        "linreg = LinearRegression()\n",
        "plot_learning_curve(linreg)\n",
        "\n"
      ],
      "metadata": {
        "id": "D8k4vX6-JtLk"
      },
      "execution_count": null,
      "outputs": []
    },
    {
      "cell_type": "code",
      "source": [
        "# not able to see the line on graph"
      ],
      "metadata": {
        "id": "ZayTvjYXMeUj"
      },
      "execution_count": null,
      "outputs": []
    },
    {
      "cell_type": "code",
      "source": [
        "linreg_prediction = linreg.predict(X_test)\n",
        "\n",
        "print(\"Linear Regression Mean Absolute Error (MAE):\", round(metrics.mean_absolute_error(y_test, linreg_prediction), 2))\n",
        "print(\"Linear Regression Mean Squared Error (MSE):\", round(metrics.mean_squared_error(y_test, linreg_prediction), 2))\n",
        "print(\"Linear Regression Root Mean Squared Error (RMSE):\", round(np.sqrt(metrics.mean_squared_error(y_test, linreg_prediction)), 2))"
      ],
      "metadata": {
        "id": "G8TDE8LCPNYo"
      },
      "execution_count": null,
      "outputs": []
    },
    {
      "cell_type": "code",
      "source": [],
      "metadata": {
        "id": "wgqVjpC4QAd2"
      },
      "execution_count": null,
      "outputs": []
    }
  ]
}